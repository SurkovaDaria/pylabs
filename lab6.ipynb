{
  "cells": [
    {
      "cell_type": "markdown",
      "id": "b54484b8",
      "metadata": {
        "id": "b54484b8"
      },
      "source": [
        "# Лабораторная работа 6. Автоматизация задач сбора и обработки данных"
      ]
    },
    {
      "cell_type": "markdown",
      "id": "615b8b5b",
      "metadata": {
        "id": "615b8b5b"
      },
      "source": [
        "## Задание\n",
        "\n",
        "Разбиться на группы по 2 человека\n",
        "\n",
        "Необходимо объединить данные об импорте товаров (01_2019.xls-12_2019.xls), сохранив данные в одном файле customs.xlsx.\n",
        "\n",
        "\n",
        "Для перебора файлов воспользуйтесь библиотекой os и функцией listdir() (или walk())"
      ]
    },
    {
      "cell_type": "code",
      "source": [
        "!pip install pandas==1.1.2\n",
        "\n",
        "!pip install openpyxl==3.0.5\n",
        "\n",
        "!pip install xlrd==1.2.0\n",
        "\n",
        "\n",
        "import os\n",
        "\n",
        "import pandas as pd\n",
        "\n",
        "\n",
        "files = [f for f in os.listdir('./customs/') if f.endswith('.xls')]\n",
        "\n",
        "files.sort()\n",
        "\n",
        "\n",
        "files\n",
        "\n",
        "\n",
        "\n",
        "\n",
        "df = pd.read_excel('./customs/'+files[0], header=None)\n",
        "\n",
        "df = df.dropna(how='any')\n",
        "\n",
        "df.columns = df.iloc[0,:]\n",
        "\n",
        "df = df.iloc[1:, :]\n",
        "\n",
        "\n",
        "\n",
        "for f in files[1:]:\n",
        "\n",
        "  temp = pd.read_excel('./customs/'+f, header=None)\n",
        "\n",
        "  temp = temp.dropna(how='any')\n",
        "\n",
        "  temp.columns = temp.iloc[0,:]\n",
        "\n",
        "  temp = temp.iloc[1:, :]\n",
        "\n",
        "  df = df.merge(temp, how='outer', on=['Код  ТН ВЭД ЕАЭС', 'Наименование товара'])\n",
        "\n",
        "\n",
        "col = ['Код  ТН ВЭД ЕАЭС', 'Наименование товара']\n",
        "\n",
        "for i in range(1,len(files)+1):\n",
        "\n",
        "  col.append(f'тыс.тонн_{i}')\n",
        "\n",
        "  col.append(f'млн.долл.США_{i}')\n",
        "\n",
        "\n",
        "col = ['Код  ТН ВЭД ЕАЭС', 'Наименование товара']\n",
        "\n",
        "for i in range(1,len(files)+1):\n",
        "\n",
        "  col.append(f'тыс.тонн_{i}')\n",
        "\n",
        "  col.append(f'млн.долл.США_{i}')\n",
        "\n",
        "df.columns = col\n",
        "\n",
        "\n",
        "df.dropna(how='any')\n",
        "\n",
        "\n",
        "df.to_excel('customs.xlsx', index=None)"
      ],
      "metadata": {
        "colab": {
          "base_uri": "https://localhost:8080/"
        },
        "id": "Sd9VNf8LjjcD",
        "outputId": "d5e1600f-d5a5-467c-f7df-adcb10f6e4b5"
      },
      "id": "Sd9VNf8LjjcD",
      "execution_count": 8,
      "outputs": [
        {
          "output_type": "stream",
          "name": "stdout",
          "text": [
            "Requirement already satisfied: pandas==1.1.2 in /usr/local/lib/python3.7/dist-packages (1.1.2)\n",
            "Requirement already satisfied: python-dateutil>=2.7.3 in /usr/local/lib/python3.7/dist-packages (from pandas==1.1.2) (2.8.2)\n",
            "Requirement already satisfied: numpy>=1.15.4 in /usr/local/lib/python3.7/dist-packages (from pandas==1.1.2) (1.21.5)\n",
            "Requirement already satisfied: pytz>=2017.2 in /usr/local/lib/python3.7/dist-packages (from pandas==1.1.2) (2018.9)\n",
            "Requirement already satisfied: six>=1.5 in /usr/local/lib/python3.7/dist-packages (from python-dateutil>=2.7.3->pandas==1.1.2) (1.15.0)\n",
            "Requirement already satisfied: openpyxl==3.0.5 in /usr/local/lib/python3.7/dist-packages (3.0.5)\n",
            "Requirement already satisfied: et-xmlfile in /usr/local/lib/python3.7/dist-packages (from openpyxl==3.0.5) (1.1.0)\n",
            "Requirement already satisfied: jdcal in /usr/local/lib/python3.7/dist-packages (from openpyxl==3.0.5) (1.4.1)\n",
            "Requirement already satisfied: xlrd==1.2.0 in /usr/local/lib/python3.7/dist-packages (1.2.0)\n"
          ]
        },
        {
          "output_type": "stream",
          "name": "stderr",
          "text": [
            "/usr/local/lib/python3.7/dist-packages/pandas/core/frame.py:9203: FutureWarning: Passing 'suffixes' which cause duplicate columns {'тыс.тонн_x', 'млн.долл.США_x'} in the result is deprecated and will raise a MergeError in a future version.\n",
            "  validate=validate,\n"
          ]
        }
      ]
    }
  ],
  "metadata": {
    "kernelspec": {
      "display_name": "Python 3 (ipykernel)",
      "language": "python",
      "name": "python3"
    },
    "language_info": {
      "codemirror_mode": {
        "name": "ipython",
        "version": 3
      },
      "file_extension": ".py",
      "mimetype": "text/x-python",
      "name": "python",
      "nbconvert_exporter": "python",
      "pygments_lexer": "ipython3",
      "version": "3.9.7"
    },
    "colab": {
      "name": "ЛР_6_Автоматизация_задач_сбора_и_обработки_данных.ipynb",
      "provenance": [],
      "toc_visible": true
    }
  },
  "nbformat": 4,
  "nbformat_minor": 5
}